{
 "cells": [
  {
   "cell_type": "code",
   "execution_count": 1,
   "metadata": {},
   "outputs": [],
   "source": [
    "from IS2_preprocessing import detect_level_ice\n",
    "from IS2_preprocessing import read_ATL10"
   ]
  },
  {
   "cell_type": "code",
   "execution_count": 11,
   "metadata": {},
   "outputs": [],
   "source": [
    "import xarray as xr\n",
    "import h5py\n",
    "import matplotlib.pyplot as plt\n",
    "import numpy as np\n",
    "from numpy.polynomial.polynomial import Polynomial\n",
    "from scipy.interpolate import lagrange"
   ]
  },
  {
   "cell_type": "code",
   "execution_count": 48,
   "metadata": {},
   "outputs": [],
   "source": [
    "file = '/glade/scratch/mollyw/external_data/ICESat-2/freeboard/2019.01.01/ATL10-01_20190101005132_00550201_005_02.h5'\n",
    "track = 'gt1r'"
   ]
  },
  {
   "cell_type": "code",
   "execution_count": 50,
   "metadata": {},
   "outputs": [],
   "source": [
    "def read_track(file, track):\n",
    "    with h5py.File(file, mode='r') as f:\n",
    "        latvar = f['/%s/freeboard_beam_segment/beam_freeboard/latitude' % track]\n",
    "        latitude = latvar[:]\n",
    "    \n",
    "        # access the longitude\n",
    "        lonvar = f['/%s/freeboard_beam_segment/beam_freeboard/longitude' % track]\n",
    "        longitude = lonvar[:]\n",
    "\n",
    "        # access the freeboard values \n",
    "        datavar = f['/%s/freeboard_beam_segment/beam_freeboard/beam_fb_height' % track]\n",
    "        data = datavar[:]\n",
    "\n",
    "        # access the freeboard uncertainty\n",
    "        unc_var = f['/%s/freeboard_beam_segment/beam_freeboard/beam_fb_sigma' % track]\n",
    "        unc = unc_var[:]\n",
    "\n",
    "        # access the open ocean mask\n",
    "        mask_var = f['/%s/freeboard_beam_segment/height_segments/height_segment_ssh_flag' % track]\n",
    "        mask = mask_var[:]\n",
    "\n",
    "        # access the surface type classification\n",
    "        surf_var = f['/%s/freeboard_beam_segment/height_segments/height_segment_type' % track]\n",
    "        surf = surf_var[:]\n",
    "\n",
    "        #handle FillValue\n",
    "        _FillValue = datavar.attrs['_FillValue']\n",
    "        data[data == _FillValue] = np.nan\n",
    "        unc[unc == _FillValue] = np.nan\n",
    "\n",
    "        # collect time information\n",
    "        timevar = f['/%s/freeboard_beam_segment/delta_time' % track]\n",
    "        time = timevar[:]\n",
    "\n",
    "        return data, latitude, longitude\n"
   ]
  },
  {
   "cell_type": "code",
   "execution_count": 20,
   "metadata": {},
   "outputs": [],
   "source": [
    "def haversine_distance(x1, x2, y1, y2):\n",
    "\n",
    "    dist = 2*np.arcsin(np.sqrt(np.sin((x1 - y1)/2)**2 +\n",
    "                               np.cos(x1)*np.cos(y1)*np.sin((x2-y2)/2)**2))\n",
    "    return dist"
   ]
  },
  {
   "cell_type": "code",
   "execution_count": 55,
   "metadata": {},
   "outputs": [],
   "source": [
    "def latlon2dist(data, latitude, longitude):\n",
    "        x_interp = []\n",
    "        for i in range(0, len(data)-1):\n",
    "                x1 = latitude[i]\n",
    "                y1 = longitude[i]\n",
    "\n",
    "                x2 = latitude[i+1]\n",
    "                y2 = longitude[i+1]\n",
    "\n",
    "                dist = 1000 * haversine_distance(x1, x2, y1, y2)\n",
    "                x_interp.append(dist)\n",
    "\n",
    "        distances = np.cumsum(x_interp)\n",
    "        distances = np.insert(distances, 0, 0)\n",
    "\n",
    "        return distances"
   ]
  },
  {
   "cell_type": "code",
   "execution_count": null,
   "metadata": {},
   "outputs": [],
   "source": [
    "def interp_100m(data, latitude, longitude, distances):\n",
    "\n",
    "    x_new = np.arange(0, distances[-1], 100)\n",
    "\n",
    "    new_data = np.interp(x_new, distances, data)\n",
    "    new_lats = np.interp(x_new, distances, latitude)\n",
    "    new_lons = np.interp(x_new, distances, longitude)\n",
    "\n",
    "    return new_data, new_lats, new_lons"
   ]
  },
  {
   "cell_type": "code",
   "execution_count": null,
   "metadata": {},
   "outputs": [],
   "source": [
    "def create_mask(data, distances):\n",
    "\n",
    "    \n",
    "    # calculate the gradient of the data\n",
    "    gradient = np.gradient(data)\n",
    "\n",
    "    # create first mask \n",
    "    mask = []\n",
    "    for x in range(0, len(gradient)):\n",
    "        if np.isnan(gradient[x]):\n",
    "            mask.append(np.nan)\n",
    "        elif abs(gradient[x]) > 0.04:\n",
    "            mask.append(0)\n",
    "        else:\n",
    "            mask.append(1)\n",
    "\n",
    "    return mask \n",
    "    # "
   ]
  }
 ],
 "metadata": {
  "kernelspec": {
   "display_name": "floes",
   "language": "python",
   "name": "python3"
  },
  "language_info": {
   "codemirror_mode": {
    "name": "ipython",
    "version": 3
   },
   "file_extension": ".py",
   "mimetype": "text/x-python",
   "name": "python",
   "nbconvert_exporter": "python",
   "pygments_lexer": "ipython3",
   "version": "3.8.15"
  },
  "orig_nbformat": 4,
  "vscode": {
   "interpreter": {
    "hash": "d30c40dadb06127d4c95e26ed04059cb0cb6f65303f6eff9e3dbd1b51dca03de"
   }
  }
 },
 "nbformat": 4,
 "nbformat_minor": 2
}
